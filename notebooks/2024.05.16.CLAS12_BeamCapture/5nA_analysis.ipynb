{
 "cells": [
  {
   "cell_type": "code",
   "execution_count": 2,
   "id": "c96f15ac-f0a4-4499-8df5-8d0149f3c19a",
   "metadata": {},
   "outputs": [],
   "source": []
  },
  {
   "cell_type": "code",
   "execution_count": null,
   "id": "fa177304-b09b-468d-98c6-dad64ebfb719",
   "metadata": {},
   "outputs": [
    {
     "name": "stdout",
     "output_type": "stream",
     "text": [
      "Reading input file: ./Desktop/CLAS12_ECAL_PCAL_DC_2024-05-16_09-07-18.pcap_split/CSVFiles/CLAS12_ECAL_PCAL_DC_2024-05-16_09-07-18.csv\n"
     ]
    }
   ],
   "source": [
    "import pandas as pd\n",
    "import matplotlib.pyplot as plt\n",
    "\n",
    "# fname = '/nvme/proj/RTDP/2024.05.17.CLAS12/files/CLAS12_ECAL_PCAL_DC_2024-05-16_09-07-18.csv' #  5nA, 220.0GB\n",
    "# fname = '/nvme/proj/RTDP/2024.05.17.CLAS12/files/CLAS12_ECAL_PCAL_DC_2024-05-16_09-27-14.csv' #  70nA, 474.0GB\n",
    "fname = './Desktop/CLAS12_ECAL_PCAL_DC_2024-05-16_09-07-18.pcap_split/CSVFiles/CLAS12_ECAL_PCAL_DC_2024-05-16_09-07-18.csv' #  25nA, 235.0GB\n",
    "\n",
    "\n",
    "print(f\"Reading input file: {fname}\")\n",
    "# df = pd.read_csv('CLAS12_ECAL_PCAL_DC_2024-05-16_09-07-18.csv') \n",
    "df = pd.read_csv(fname)  #  5nA, 220.0GB\n",
    "\n",
    "# Time difference between first and last packet\n",
    "d_total = len(df)*1.5E-3  # in MB\n",
    "t_total = df['Timestamp'].max() - df['Timestamp'].min()\n",
    "\n",
    "# Caluculate values based on port\n",
    "df1 = {}\n",
    "t_total1 = {}\n",
    "for port in range(7001, 7025):\n",
    "    print(f\"Processing port: {port}\")\n",
    "    df1[port] = df[df['DestinationPort'] == port].copy()\n",
    "    df1[port]['time_diff'] = df1[port]['Timestamp'].diff()*1E3 # Time difference between subsequent packets in milliseconds\n",
    "    df1[port] = df1[port].dropna()\n",
    "    t_total1[port] = df1[port]['Timestamp'].max() - df1[port]['Timestamp'].min()\n",
    "\n",
    "print(f'Number of packets: {len(df)} (or about {len(df)/4.0E6:.2f}M packets per stream)')\n",
    "print(f'Total time for run: {t_total:.2f}s (={t_total/60.0:.2f}mins)')\n",
    "print(f'Total data (approx.): {d_total*1.0E-3:.2f}GB')\n",
    "print(f'Total rate (approx.): {d_total/t_total:.2f}MB/s')\n",
    "for port in range(7001, 7025):\n",
    "    print(f'  port {port}: {len(df1[port])} packets (or about {len(df1[port])*1.5E-3/t_total1[port]:.2f}MB/s)')"
   ]
  },
  {
   "cell_type": "code",
   "execution_count": null,
   "id": "3fe6d1c6-c5d0-4874-b7bf-81e388097a4b",
   "metadata": {},
   "outputs": [],
   "source": [
    "time_diffs = {}\n",
    "average_within_subrange = {}\n",
    "\n",
    "ports = [port for port in range(7001,7025)]\n",
    "\n",
    "for port in ports:\n",
    "    # Define histogram parameters\n",
    "    bin_width = 1  # seconds\n",
    "    total_range = 15 * 60  # 15 minutes in seconds\n",
    "    bins = int(total_range / bin_width)\n",
    "\n",
    "    # Create the histograms\n",
    "    plt.figure(figsize=(10, 1.5))\n",
    "    plt.hist(df1[port]['time_diff'], bins=5000, edgecolor='green', range=[0.0, 6.0E0], log=True)\n",
    "    plt.title(f'Packet Time Differences Port {port}')\n",
    "    plt.xlabel('Time Difference milliseconds')\n",
    "    plt.grid()\n",
    "    plt.show()\n",
    "\n",
    "    # Calculate time differences from the first row's Timestamp (in minutes)\n",
    "    time_diffs[port] = (df1[port]['Timestamp'] - df['Timestamp'].iloc[0])/60.0\n",
    "    \n",
    "    # Create the weighted histograms\n",
    "    plt.figure(figsize=(10, 1.5))\n",
    "    counts, bins, patches = plt.hist(time_diffs[port], bins=bins, range=[0.0, 15.0], weights=df1[port]['CaptureLength'] / 1.0E6, edgecolor='green')\n",
    "    plt.title(f'Histogram of Weighted Time Differences (port {port})')\n",
    "    plt.xlabel('Time Difference from First Timestamp (minutes)')\n",
    "    plt.ylabel('Payload Rate (MB/s)')\n",
    "    plt.grid()\n",
    "    plt.show()\n",
    "\n",
    "    subrange_start = 4\n",
    "    subrange_end = 10\n",
    "\n",
    "    total_sum = 0\n",
    "    total_count = 0\n",
    "    for count, bin_edge in zip(counts, bins[:-1]):\n",
    "        bin_center = (bin_edge + bins[bins.searchsorted(bin_edge) + 1]) / 2\n",
    "        if subrange_start <= bin_center <= subrange_end:\n",
    "            total_sum += count\n",
    "            total_count += 1\n",
    "\n",
    "    average_within_subrange[port] = total_sum / total_count if total_count > 0 else 0\n",
    "\n"
   ]
  },
  {
   "cell_type": "code",
   "execution_count": null,
   "id": "8b3ce198-7eac-4d0f-8eef-de5be1adc9e5",
   "metadata": {},
   "outputs": [],
   "source": [
    "# Print the average y-axis values within the subrange (4 to 10) for each port\n",
    "ports = list(average_within_subrange.keys())\n",
    "averages = list(average_within_subrange.values())\n",
    "\n",
    "# Plot the histogram\n",
    "plt.figure(figsize=(12, 6))  # Adjust the figure size as needed\n",
    "bars = plt.bar(ports, averages, color='blue')\n",
    "plt.title('Average y-axis Value from 4 to 10 for Each Port')\n",
    "plt.xlabel('Port Number')\n",
    "plt.ylabel('Average Value')\n",
    "plt.xticks(rotation=45, ha='right')\n",
    "plt.grid(axis='y', linestyle='--')\n",
    "\n",
    "# Show every x-axis value\n",
    "plt.xticks(ports)\n",
    "\n",
    "# Annotate each bar with its value\n",
    "for bar, value in zip(bars, averages):\n",
    "    plt.text(bar.get_x() + bar.get_width() / 2, value + 0.1, f'{value:.2f}', ha='center', va='bottom')\n",
    "\n",
    "plt.show()"
   ]
  },
  {
   "cell_type": "code",
   "execution_count": null,
   "id": "f7e21dca-aab1-4f91-8191-f5b6abfa10f6",
   "metadata": {},
   "outputs": [],
   "source": []
  },
  {
   "cell_type": "code",
   "execution_count": null,
   "id": "46b433bc-9e7b-4bc6-b38a-b82146229fcc",
   "metadata": {},
   "outputs": [],
   "source": []
  }
 ],
 "metadata": {
  "kernelspec": {
   "display_name": "Python 3 (ipykernel)",
   "language": "python",
   "name": "python3"
  },
  "language_info": {
   "codemirror_mode": {
    "name": "ipython",
    "version": 3
   },
   "file_extension": ".py",
   "mimetype": "text/x-python",
   "name": "python",
   "nbconvert_exporter": "python",
   "pygments_lexer": "ipython3",
   "version": "3.11.5"
  }
 },
 "nbformat": 4,
 "nbformat_minor": 5
}
