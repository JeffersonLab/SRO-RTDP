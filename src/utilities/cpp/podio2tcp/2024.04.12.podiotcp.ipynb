{
 "cells": [
  {
   "cell_type": "markdown",
   "metadata": {},
   "source": [
    "# Run EICrecon using podio over TCP\n",
    "(n.b. This is based on the fabric iperf3 example.)\n",
    "\n",
    "This will setup nodes at both CERN and Washington DC to demonstrate transferring podio events and processing them using the EICrecon software from ePIC.\n"
   ]
  },
  {
   "cell_type": "markdown",
   "metadata": {},
   "source": [
    "## Import the FABlib Library\n"
   ]
  },
  {
   "cell_type": "code",
   "execution_count": 1,
   "metadata": {
    "tags": []
   },
   "outputs": [
    {
     "data": {
      "text/html": [
       "<style type=\"text/css\">\n",
       "#T_f5612 tr:nth-child(even) {\n",
       "  background: #dbf3ff;\n",
       "  color: #231f20;\n",
       "}\n",
       "#T_f5612 tr:nth-child(odd) {\n",
       "  background: #ffffff;\n",
       "  color: #231f20;\n",
       "}\n",
       "#T_f5612 caption {\n",
       "  text-align: center;\n",
       "  font-size: 150%;\n",
       "}\n",
       "#T_f5612_row0_col0, #T_f5612_row0_col1, #T_f5612_row1_col0, #T_f5612_row1_col1, #T_f5612_row2_col0, #T_f5612_row2_col1, #T_f5612_row3_col0, #T_f5612_row3_col1, #T_f5612_row4_col0, #T_f5612_row4_col1, #T_f5612_row5_col0, #T_f5612_row5_col1, #T_f5612_row6_col0, #T_f5612_row6_col1, #T_f5612_row7_col0, #T_f5612_row7_col1, #T_f5612_row8_col0, #T_f5612_row8_col1, #T_f5612_row9_col0, #T_f5612_row9_col1, #T_f5612_row10_col0, #T_f5612_row10_col1, #T_f5612_row11_col0, #T_f5612_row11_col1, #T_f5612_row12_col0, #T_f5612_row12_col1, #T_f5612_row13_col0, #T_f5612_row13_col1, #T_f5612_row14_col0, #T_f5612_row14_col1, #T_f5612_row15_col0, #T_f5612_row15_col1, #T_f5612_row16_col0, #T_f5612_row16_col1 {\n",
       "  text-align: left;\n",
       "  border: 1px #231f20 solid !important;\n",
       "  overwrite: False;\n",
       "}\n",
       "</style>\n",
       "<table id=\"T_f5612\">\n",
       "  <caption>FABlib Config</caption>\n",
       "  <thead>\n",
       "  </thead>\n",
       "  <tbody>\n",
       "    <tr>\n",
       "      <td id=\"T_f5612_row0_col0\" class=\"data row0 col0\" >Orchestrator</td>\n",
       "      <td id=\"T_f5612_row0_col1\" class=\"data row0 col1\" >orchestrator.fabric-testbed.net</td>\n",
       "    </tr>\n",
       "    <tr>\n",
       "      <td id=\"T_f5612_row1_col0\" class=\"data row1 col0\" >Credential Manager</td>\n",
       "      <td id=\"T_f5612_row1_col1\" class=\"data row1 col1\" >cm.fabric-testbed.net</td>\n",
       "    </tr>\n",
       "    <tr>\n",
       "      <td id=\"T_f5612_row2_col0\" class=\"data row2 col0\" >Core API</td>\n",
       "      <td id=\"T_f5612_row2_col1\" class=\"data row2 col1\" >uis.fabric-testbed.net</td>\n",
       "    </tr>\n",
       "    <tr>\n",
       "      <td id=\"T_f5612_row3_col0\" class=\"data row3 col0\" >Token File</td>\n",
       "      <td id=\"T_f5612_row3_col1\" class=\"data row3 col1\" >/home/fabric/.tokens.json</td>\n",
       "    </tr>\n",
       "    <tr>\n",
       "      <td id=\"T_f5612_row4_col0\" class=\"data row4 col0\" >Project ID</td>\n",
       "      <td id=\"T_f5612_row4_col1\" class=\"data row4 col1\" >a7818636-1fa1-4e77-bb03-d171598b0862</td>\n",
       "    </tr>\n",
       "    <tr>\n",
       "      <td id=\"T_f5612_row5_col0\" class=\"data row5 col0\" >Bastion Host</td>\n",
       "      <td id=\"T_f5612_row5_col1\" class=\"data row5 col1\" >bastion.fabric-testbed.net</td>\n",
       "    </tr>\n",
       "    <tr>\n",
       "      <td id=\"T_f5612_row6_col0\" class=\"data row6 col0\" >Bastion Username</td>\n",
       "      <td id=\"T_f5612_row6_col1\" class=\"data row6 col1\" >davidl_0004580836</td>\n",
       "    </tr>\n",
       "    <tr>\n",
       "      <td id=\"T_f5612_row7_col0\" class=\"data row7 col0\" >Bastion Private Key File</td>\n",
       "      <td id=\"T_f5612_row7_col1\" class=\"data row7 col1\" >/home/fabric/work/fabric_config/fabric-bastion-key</td>\n",
       "    </tr>\n",
       "    <tr>\n",
       "      <td id=\"T_f5612_row8_col0\" class=\"data row8 col0\" >Slice Public Key File</td>\n",
       "      <td id=\"T_f5612_row8_col1\" class=\"data row8 col1\" >/home/fabric/work/fabric_config/slice_key.pub</td>\n",
       "    </tr>\n",
       "    <tr>\n",
       "      <td id=\"T_f5612_row9_col0\" class=\"data row9 col0\" >Slice Private Key File</td>\n",
       "      <td id=\"T_f5612_row9_col1\" class=\"data row9 col1\" >/home/fabric/work/fabric_config/slice_key</td>\n",
       "    </tr>\n",
       "    <tr>\n",
       "      <td id=\"T_f5612_row10_col0\" class=\"data row10 col0\" >Sites to avoid</td>\n",
       "      <td id=\"T_f5612_row10_col1\" class=\"data row10 col1\" ></td>\n",
       "    </tr>\n",
       "    <tr>\n",
       "      <td id=\"T_f5612_row11_col0\" class=\"data row11 col0\" >SSH Command Line</td>\n",
       "      <td id=\"T_f5612_row11_col1\" class=\"data row11 col1\" >ssh -i {{ _self_.private_ssh_key_file }} -F /home/fabric/work/fabric_config/ssh_config {{ _self_.username }}@{{ _self_.management_ip }}</td>\n",
       "    </tr>\n",
       "    <tr>\n",
       "      <td id=\"T_f5612_row12_col0\" class=\"data row12 col0\" >Log Level</td>\n",
       "      <td id=\"T_f5612_row12_col1\" class=\"data row12 col1\" >INFO</td>\n",
       "    </tr>\n",
       "    <tr>\n",
       "      <td id=\"T_f5612_row13_col0\" class=\"data row13 col0\" >Log File</td>\n",
       "      <td id=\"T_f5612_row13_col1\" class=\"data row13 col1\" >/tmp/fablib/fablib.log</td>\n",
       "    </tr>\n",
       "    <tr>\n",
       "      <td id=\"T_f5612_row14_col0\" class=\"data row14 col0\" >Bastion SSH Config File</td>\n",
       "      <td id=\"T_f5612_row14_col1\" class=\"data row14 col1\" >/home/fabric/work/fabric_config/ssh_config</td>\n",
       "    </tr>\n",
       "    <tr>\n",
       "      <td id=\"T_f5612_row15_col0\" class=\"data row15 col0\" >Version</td>\n",
       "      <td id=\"T_f5612_row15_col1\" class=\"data row15 col1\" >1.6.2</td>\n",
       "    </tr>\n",
       "    <tr>\n",
       "      <td id=\"T_f5612_row16_col0\" class=\"data row16 col0\" >Data directory</td>\n",
       "      <td id=\"T_f5612_row16_col1\" class=\"data row16 col1\" >/tmp/fablib</td>\n",
       "    </tr>\n",
       "  </tbody>\n",
       "</table>\n"
      ],
      "text/plain": [
       "<pandas.io.formats.style.Styler at 0x7eff080821d0>"
      ]
     },
     "metadata": {},
     "output_type": "display_data"
    }
   ],
   "source": [
    "from fabrictestbed_extensions.fablib.fablib import FablibManager as fablib_manager\n",
    "\n",
    "fablib = fablib_manager()\n",
    "\n",
    "fablib.show_config();"
   ]
  },
  {
   "cell_type": "markdown",
   "metadata": {
    "tags": []
   },
   "source": [
    "## Create the Experiment Slice\n",
    "\n",
    "The following creates two nodes with basic NICs connected to an isolated local Ethernet. \n",
    "\n",
    "Patience here. This will take a while not only to set up the slice, but to pull the docker image which is >=11.3GB"
   ]
  },
  {
   "cell_type": "code",
   "execution_count": 2,
   "metadata": {
    "tags": []
   },
   "outputs": [
    {
     "name": "stdout",
     "output_type": "stream",
     "text": [
      "Sites: CERN, WASH\n"
     ]
    }
   ],
   "source": [
    "slice_name = 'EICreconTCP'\n",
    "# [site1, site2] = fablib.get_random_sites(count=2)\n",
    "site1 = 'CERN'\n",
    "site2 = 'WASH'\n",
    "print(f\"Sites: {site1}, {site2}\")\n",
    "\n",
    "node1_name='Node1'\n",
    "node2_name='Node2'"
   ]
  },
  {
   "cell_type": "code",
   "execution_count": 3,
   "metadata": {
    "tags": []
   },
   "outputs": [
    {
     "ename": "Exception",
     "evalue": "Submit request error: return_status Status.FAILURE, slice_reservations: (500)\nReason: INTERNAL SERVER ERROR\nHTTP response headers: HTTPHeaderDict({'Server': 'nginx/1.21.6', 'Date': 'Sun, 14 Apr 2024 01:18:51 GMT', 'Content-Type': 'text/html; charset=utf-8', 'Content-Length': '206', 'Connection': 'keep-alive', 'Access-Control-Allow-Credentials': 'true', 'Access-Control-Allow-Headers': 'DNT, User-Agent, X-Requested-With, If-Modified-Since, Cache-Control, Content-Type, Range, Authorization', 'Access-Control-Allow-Methods': 'GET, POST, PUT, PATCH, DELETE, OPTIONS', 'Access-Control-Allow-Origin': '*', 'Access-Control-Expose-Headers': 'Content-Length, Content-Range, X-Error', 'X-Error': 'Slice EICreconTCP already exists'})\nHTTP response body: b'{\\n    \"errors\": [\\n        {\\n            \"details\": \"Slice EICreconTCP already exists\",\\n            \"message\": \"Internal Server Error\"\\n        }\\n    ],\\n    \"size\": 1,\\n    \"status\": 500,\\n    \"type\": \"error\"\\n}'\n",
     "output_type": "error",
     "traceback": [
      "\u001b[0;31m---------------------------------------------------------------------------\u001b[0m",
      "\u001b[0;31mException\u001b[0m                                 Traceback (most recent call last)",
      "Cell \u001b[0;32mIn[3], line 22\u001b[0m\n\u001b[1;32m     19\u001b[0m node2\u001b[38;5;241m.\u001b[39madd_post_boot_execute(\u001b[38;5;124m'\u001b[39m\u001b[38;5;124mdocker pull pull eicweb/jug_xl:nightly \u001b[39m\u001b[38;5;124m'\u001b[39m)\n\u001b[1;32m     21\u001b[0m \u001b[38;5;66;03m#Submit Slice Request\u001b[39;00m\n\u001b[0;32m---> 22\u001b[0m \u001b[38;5;28;43mslice\u001b[39;49m\u001b[38;5;241;43m.\u001b[39;49m\u001b[43msubmit\u001b[49m\u001b[43m(\u001b[49m\u001b[43m)\u001b[49m;\n",
      "File \u001b[0;32m/opt/conda/lib/python3.10/site-packages/fabrictestbed_extensions/fablib/slice.py:1981\u001b[0m, in \u001b[0;36mSlice.submit\u001b[0;34m(self, wait, wait_timeout, wait_interval, progress, wait_jupyter, post_boot_config, wait_ssh, extra_ssh_keys)\u001b[0m\n\u001b[1;32m   1977\u001b[0m     \u001b[38;5;28;01melse\u001b[39;00m:\n\u001b[1;32m   1978\u001b[0m         logging\u001b[38;5;241m.\u001b[39merror(\n\u001b[1;32m   1979\u001b[0m             \u001b[38;5;124mf\u001b[39m\u001b[38;5;124m\"\u001b[39m\u001b[38;5;124mSubmit request error: return_status \u001b[39m\u001b[38;5;132;01m{\u001b[39;00mreturn_status\u001b[38;5;132;01m}\u001b[39;00m\u001b[38;5;124m, slice_reservations: \u001b[39m\u001b[38;5;132;01m{\u001b[39;00mslice_reservations\u001b[38;5;132;01m}\u001b[39;00m\u001b[38;5;124m\"\u001b[39m\n\u001b[1;32m   1980\u001b[0m         )\n\u001b[0;32m-> 1981\u001b[0m         \u001b[38;5;28;01mraise\u001b[39;00m \u001b[38;5;167;01mException\u001b[39;00m(\n\u001b[1;32m   1982\u001b[0m             \u001b[38;5;124mf\u001b[39m\u001b[38;5;124m\"\u001b[39m\u001b[38;5;124mSubmit request error: return_status \u001b[39m\u001b[38;5;132;01m{\u001b[39;00mreturn_status\u001b[38;5;132;01m}\u001b[39;00m\u001b[38;5;124m, slice_reservations: \u001b[39m\u001b[38;5;132;01m{\u001b[39;00mslice_reservations\u001b[38;5;132;01m}\u001b[39;00m\u001b[38;5;124m\"\u001b[39m\n\u001b[1;32m   1983\u001b[0m         )\n\u001b[1;32m   1985\u001b[0m \u001b[38;5;28;01mif\u001b[39;00m return_status \u001b[38;5;241m!=\u001b[39m Status\u001b[38;5;241m.\u001b[39mOK:\n\u001b[1;32m   1986\u001b[0m     \u001b[38;5;28;01mraise\u001b[39;00m \u001b[38;5;167;01mException\u001b[39;00m(\n\u001b[1;32m   1987\u001b[0m         \u001b[38;5;124m\"\u001b[39m\u001b[38;5;124mFailed to submit slice: \u001b[39m\u001b[38;5;132;01m{}\u001b[39;00m\u001b[38;5;124m, \u001b[39m\u001b[38;5;132;01m{}\u001b[39;00m\u001b[38;5;124m\"\u001b[39m\u001b[38;5;241m.\u001b[39mformat(\n\u001b[1;32m   1988\u001b[0m             return_status, slice_reservations\n\u001b[1;32m   1989\u001b[0m         )\n\u001b[1;32m   1990\u001b[0m     )\n",
      "\u001b[0;31mException\u001b[0m: Submit request error: return_status Status.FAILURE, slice_reservations: (500)\nReason: INTERNAL SERVER ERROR\nHTTP response headers: HTTPHeaderDict({'Server': 'nginx/1.21.6', 'Date': 'Sun, 14 Apr 2024 01:18:51 GMT', 'Content-Type': 'text/html; charset=utf-8', 'Content-Length': '206', 'Connection': 'keep-alive', 'Access-Control-Allow-Credentials': 'true', 'Access-Control-Allow-Headers': 'DNT, User-Agent, X-Requested-With, If-Modified-Since, Cache-Control, Content-Type, Range, Authorization', 'Access-Control-Allow-Methods': 'GET, POST, PUT, PATCH, DELETE, OPTIONS', 'Access-Control-Allow-Origin': '*', 'Access-Control-Expose-Headers': 'Content-Length, Content-Range, X-Error', 'X-Error': 'Slice EICreconTCP already exists'})\nHTTP response body: b'{\\n    \"errors\": [\\n        {\\n            \"details\": \"Slice EICreconTCP already exists\",\\n            \"message\": \"Internal Server Error\"\\n        }\\n    ],\\n    \"size\": 1,\\n    \"status\": 500,\\n    \"type\": \"error\"\\n}'\n"
     ]
    }
   ],
   "source": [
    "#Create Slice\n",
    "slice = fablib.new_slice(name=slice_name)\n",
    "\n",
    "# Node1\n",
    "node1 = slice.add_node(name=node1_name, cores=4, disk=50, ram=16, site=site1, image='docker_rocky_8')\n",
    "node1.add_fabnet()\n",
    "node1.add_post_boot_upload_directory('node_tools','.')\n",
    "node1.add_post_boot_execute('sudo node_tools/host_tune.sh')\n",
    "node1.add_post_boot_execute('node_tools/enable_docker.sh {{ _self_.image }} ')\n",
    "node1.add_post_boot_execute('docker pull eicweb/jug_xl:nightly ')\n",
    "\n",
    "\n",
    "# Node2\n",
    "node2 = slice.add_node(name=node2_name, cores=4, disk=50, ram=16, site=site2, image='docker_rocky_8')\n",
    "node2.add_fabnet()\n",
    "node2.add_post_boot_upload_directory('node_tools','.')\n",
    "node2.add_post_boot_execute('sudo node_tools/host_tune.sh')\n",
    "node2.add_post_boot_execute('node_tools/enable_docker.sh {{ _self_.image }} ')\n",
    "node2.add_post_boot_execute('docker pull eicweb/jug_xl:nightly ')\n",
    "\n",
    "#Submit Slice Request\n",
    "slice.submit();"
   ]
  },
  {
   "cell_type": "markdown",
   "metadata": {
    "tags": []
   },
   "source": [
    "# Build software\n",
    "\n",
    "This will clone and build the software needed for the test. It is built on both nodes though really only podio2tcp is needed on one of them.\n",
    "\n",
    "This will take quite a long time since a lot of code is compiled and only a couple of cores are available."
   ]
  },
  {
   "cell_type": "code",
   "execution_count": 4,
   "metadata": {},
   "outputs": [
    {
     "name": "stdout",
     "output_type": "stream",
     "text": [
      "/home/fabric/work/RTDP\n",
      "total 56\n",
      "-rwxrwxr-x.  1 rocky rocky 1708 Apr 14 01:19 build_all.sh\n",
      "drwxr-xr-x.  5 root  root  4096 Apr 14 00:34 EICrecon\n",
      "drwxr-xr-x.  6 root  root  4096 Apr 14 00:34 EICrecon.build\n",
      "drwxr-xr-x.  8 root  root  4096 Apr 14 00:29 EICrecon.src\n",
      "drwxr-xr-x.  7 root  root  4096 Apr 14 00:29 JANA2\n",
      "drwxr-xr-x.  4 root  root  4096 Apr 14 00:29 JANA2.build\n",
      "drwxr-xr-x. 10 root  root  4096 Apr 14 00:27 JANA2.src\n",
      "drwxrwxr-x.  2 rocky rocky 4096 Apr 13 22:51 node_tools\n",
      "drwxr-xr-x.  7 root  root  4096 Apr 14 00:27 podio\n",
      "drwxr-xr-x.  3 root  root  4096 Apr 14 00:27 podio2tcp.build\n",
      "drwxr-xr-x.  9 root  root  4096 Apr 14 00:27 podio.build\n",
      "drwxr-xr-x. 11 root  root  4096 Apr 14 00:24 podio.src\n",
      "drwxr-xr-x.  3 root  root  4096 Apr 14 00:34 podiostream.build\n",
      "drwxr-xr-x.  9 root  root  4096 Apr 14 00:27 SRO-RTDP\n"
     ]
    }
   ],
   "source": [
    "%cd /home/fabric/work/RTDP\n",
    "slice = fablib.get_slice(slice_name)\n",
    "node1 = slice.get_node(name=node1_name)        \n",
    "node2 = slice.get_node(name=node2_name)           \n",
    "node1.upload_file('build_all.sh', 'build_all.sh')\n",
    "node2.upload_file('build_all.sh', 'build_all.sh')\n",
    "node1.execute(\"chmod +x build_all.sh\", quiet=True)\n",
    "node2.execute(\"chmod +x build_all.sh\", quiet=True)\n",
    "\n",
    "stdout2, stderr2 = node2.execute(\"ls -l\", quiet=False)\n",
    "\n",
    "cmd  = \"docker run --rm \"\n",
    "cmd += \"--network host \"\n",
    "cmd += \"-v ${PWD}:/work \"\n",
    "cmd += \"eicweb/jug_xl:nightly \"\n",
    "cmd += \"/work/build_all.sh\"\n",
    "\n",
    "stdout2, stderr2 = node1.execute(cmd, quiet=True, output_file=f\"{node1.get_name()}.log\");\n",
    "stdout2, stderr2 = node2.execute(cmd, quiet=True, output_file=f\"{node2.get_name()}.log\");\n"
   ]
  },
  {
   "cell_type": "markdown",
   "metadata": {},
   "source": [
    "# Copy input file to source host\n",
    "\n",
    "TODO: The podiostr input file is currently copied from my bastion account. It would be better to have this pulled from xrootd by the remote nodes.\n",
    "\n",
    "The input file was copied to my bastion account with:\n",
    "\n",
    "~~~\n",
    "  scp -J davidl@scilogin.jlab.org davidl@ifarm9:/home/davidl/work_eic/2024.04.11.podio_stream/simout.1000.edmhep.root.podiostr\n",
    "~~~\n",
    "\n",
    "Instructions for creating it can be found here: https://github.com/JeffersonLab/SRO-RTDP/tree/main/src/utilities/cpp/podio2tcp"
   ]
  },
  {
   "cell_type": "code",
   "execution_count": null,
   "metadata": {},
   "outputs": [],
   "source": [
    "node1.upload_file('simout.1000.edmhep.root.podiostr', 'simout.1000.edmhep.root.podiostr')"
   ]
  },
  {
   "cell_type": "markdown",
   "metadata": {},
   "source": [
    "# Setup scripts to run test\n",
    "\n",
    "Numerous environment variables need to be set up inside the docker container before running the software. This is easiest to do by just putting them in a script. Copy the `setenv.sh` script from here to each of the nodes.\n",
    "\n",
    "The client node (the one running eicrecon and consuming events) will need to know the IP address of the server node. Copy this into the setenv.sh scripts on the remote node(s) so it is set as an environment variable that can be easily used in the eicrecon command.\n",
    "\n"
   ]
  },
  {
   "cell_type": "code",
   "execution_count": 8,
   "metadata": {},
   "outputs": [
    {
     "name": "stdout",
     "output_type": "stream",
     "text": [
      "node1: 10.143.4.2\n",
      "node2: 10.133.7.2\n"
     ]
    },
    {
     "data": {
      "text/plain": [
       "('', '')"
      ]
     },
     "execution_count": 8,
     "metadata": {},
     "output_type": "execute_result"
    }
   ],
   "source": [
    "# Get IP addresses\n",
    "node1_addr = node1.get_interface(network_name=f'FABNET_IPv4_{node1.get_site()}').get_ip_addr()\n",
    "node2_addr = node2.get_interface(network_name=f'FABNET_IPv4_{node2.get_site()}').get_ip_addr()\n",
    "print(f'node1: {node1_addr}')\n",
    "print(f'node2: {node2_addr}')\n",
    "\n",
    "# Upload the setenv.sh file\n",
    "node1.upload_file('setenv.sh', 'setenv.sh')\n",
    "node2.upload_file('setenv.sh', 'setenv.sh')\n",
    "\n",
    "# Append setting the PODIOHOST to the setenv.sh script\n",
    "cmd = f\"echo \\\"export PODIOHOST={node1_addr}\\\" >> setenv.sh\"\n",
    "node2.execute(cmd, quiet=False, output_file=f\"{node2.get_name()}.log\");\n",
    "\n",
    "# Copy run scripts\n",
    "node1.upload_file('run_source.sh', 'run_source.sh')\n",
    "node1.execute(\"chmod +x run_source.sh\", quiet=True)\n",
    "node2.upload_file('run_eicrecon.sh', 'run_eicrecon.sh')\n",
    "node2.execute(\"chmod +x run_eicrecon.sh\", quiet=True)"
   ]
  },
  {
   "cell_type": "markdown",
   "metadata": {},
   "source": [
    "# Run processes\n",
    "\n",
    "At this point, it is probably easier to run the processes manually in separate terminals connected to each host. Grab the ssh commands for each node from the top of this notebook and establish a connection to each in separate terminals. The run docker like this:\n",
    "\n",
    "On node1 (CERN):\n",
    "~~~\n",
    "docker run -it --rm --network host -v ${PWD}:/work eicweb/jug_xl:nightly /work/run_source.sh\n",
    "~~~\n",
    "\n",
    "On node2 (WASH):\n",
    "~~~\n",
    "docker run -it --rm --network host -v ${PWD}:/work eicweb/jug_xl:nightly /work/run_eicrecon.sh\n",
    "~~~\n",
    "\n"
   ]
  },
  {
   "cell_type": "code",
   "execution_count": 9,
   "metadata": {},
   "outputs": [],
   "source": [
    "# node1.execute(\"docker run -it --rm --network host -v ${PWD}:/work eicweb/jug_xl:nightly /work/run_source.sh\", quiet=True)\n",
    "# node2.execute(\"docker run -it --rm --network host -v ${PWD}:/work eicweb/jug_xl:nightly /work/run_eicrecon.sh\", quiet=True)"
   ]
  },
  {
   "cell_type": "markdown",
   "metadata": {},
   "source": [
    "## Delete the Slice\n",
    "\n",
    "Please delete your slice when you are done with your experiment."
   ]
  },
  {
   "cell_type": "code",
   "execution_count": 10,
   "metadata": {
    "tags": []
   },
   "outputs": [],
   "source": [
    "# slice = fablib.get_slice(slice_name)\n",
    "# slice.delete()\n"
   ]
  },
  {
   "cell_type": "code",
   "execution_count": null,
   "metadata": {},
   "outputs": [],
   "source": []
  }
 ],
 "metadata": {
  "kernelspec": {
   "display_name": "Python 3 (ipykernel)",
   "language": "python",
   "name": "python3"
  },
  "language_info": {
   "codemirror_mode": {
    "name": "ipython",
    "version": 3
   },
   "file_extension": ".py",
   "mimetype": "text/x-python",
   "name": "python",
   "nbconvert_exporter": "python",
   "pygments_lexer": "ipython3",
   "version": "3.10.6"
  }
 },
 "nbformat": 4,
 "nbformat_minor": 4
}
